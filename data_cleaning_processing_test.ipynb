{
 "cells": [
  {
   "cell_type": "code",
   "execution_count": 354,
   "metadata": {},
   "outputs": [],
   "source": [
    "import pandas as pd"
   ]
  },
  {
   "cell_type": "code",
   "execution_count": 355,
   "metadata": {},
   "outputs": [],
   "source": [
    "df = pd.read_csv(\"books_2000.csv\")\n",
    "df.drop(\"Unnamed: 0\", axis=1, inplace=True)\n",
    "df.drop_duplicates(inplace=True)"
   ]
  },
  {
   "cell_type": "code",
   "execution_count": 356,
   "metadata": {},
   "outputs": [
    {
     "data": {
      "text/plain": [
       "(1638, 14)"
      ]
     },
     "execution_count": 356,
     "metadata": {},
     "output_type": "execute_result"
    }
   ],
   "source": [
    "df.shape"
   ]
  },
  {
   "cell_type": "code",
   "execution_count": 357,
   "metadata": {},
   "outputs": [
    {
     "data": {
      "text/html": [
       "<div>\n",
       "<style scoped>\n",
       "    .dataframe tbody tr th:only-of-type {\n",
       "        vertical-align: middle;\n",
       "    }\n",
       "\n",
       "    .dataframe tbody tr th {\n",
       "        vertical-align: top;\n",
       "    }\n",
       "\n",
       "    .dataframe thead th {\n",
       "        text-align: right;\n",
       "    }\n",
       "</style>\n",
       "<table border=\"1\" class=\"dataframe\">\n",
       "  <thead>\n",
       "    <tr style=\"text-align: right;\">\n",
       "      <th></th>\n",
       "      <th>Title</th>\n",
       "      <th>author</th>\n",
       "      <th>rating</th>\n",
       "      <th>num_rating</th>\n",
       "      <th>num_reviews</th>\n",
       "      <th>pages</th>\n",
       "      <th>publish_year</th>\n",
       "      <th>url</th>\n",
       "      <th>series</th>\n",
       "      <th>awards</th>\n",
       "      <th>genre_1</th>\n",
       "      <th>genre_2</th>\n",
       "      <th>genre_3</th>\n",
       "      <th>places</th>\n",
       "    </tr>\n",
       "  </thead>\n",
       "  <tbody>\n",
       "    <tr>\n",
       "      <th>0</th>\n",
       "      <td>Harry Potter and the Deathly Hallows</td>\n",
       "      <td>J.K. Rowling</td>\n",
       "      <td>4.62</td>\n",
       "      <td>2,883,244 ratings</td>\n",
       "      <td>66,759 reviews</td>\n",
       "      <td>759 pages</td>\n",
       "      <td>Published July 21st 2007 by Arthur A. Levine B...</td>\n",
       "      <td>https://www.arthuralevinebooks.com/harry-potte...</td>\n",
       "      <td>Harry Potter #7</td>\n",
       "      <td>Locus Award Nominee for Best Young Adult Novel...</td>\n",
       "      <td>Fantasy</td>\n",
       "      <td>Young Adult</td>\n",
       "      <td>Fiction</td>\n",
       "      <td>NaN</td>\n",
       "    </tr>\n",
       "    <tr>\n",
       "      <th>1</th>\n",
       "      <td>The Hunger Games</td>\n",
       "      <td>Suzanne Collins</td>\n",
       "      <td>4.33</td>\n",
       "      <td>6,533,809 ratings</td>\n",
       "      <td>173,706 reviews</td>\n",
       "      <td>374 pages</td>\n",
       "      <td>Published September 14th 2008 by Scholastic Press</td>\n",
       "      <td>NaN</td>\n",
       "      <td>The Hunger Games #1</td>\n",
       "      <td>Locus Award Nominee for Best Young Adult Book ...</td>\n",
       "      <td>Young Adult</td>\n",
       "      <td>Fiction</td>\n",
       "      <td>Science Fiction</td>\n",
       "      <td>NaN</td>\n",
       "    </tr>\n",
       "    <tr>\n",
       "      <th>2</th>\n",
       "      <td>Harry Potter and the Half-Blood Prince</td>\n",
       "      <td>J.K. Rowling</td>\n",
       "      <td>4.57</td>\n",
       "      <td>2,506,722 ratings</td>\n",
       "      <td>40,531 reviews</td>\n",
       "      <td>NaN</td>\n",
       "      <td>Published September 16th 2006 by Scholastic In...</td>\n",
       "      <td>Harry Potter #6</td>\n",
       "      <td>Draco Malfoy</td>\n",
       "      <td>NaN</td>\n",
       "      <td>NaN</td>\n",
       "      <td>NaN</td>\n",
       "      <td>NaN</td>\n",
       "      <td>NaN</td>\n",
       "    </tr>\n",
       "    <tr>\n",
       "      <th>3</th>\n",
       "      <td>Harry Potter and the Goblet of Fire</td>\n",
       "      <td>J.K. Rowling</td>\n",
       "      <td>4.56</td>\n",
       "      <td>2,672,283 ratings</td>\n",
       "      <td>47,871 reviews</td>\n",
       "      <td>734 pages</td>\n",
       "      <td>Published September 28th 2002 by Scholastic (f...</td>\n",
       "      <td>Harry Potter #4</td>\n",
       "      <td>Sirius Black</td>\n",
       "      <td>NaN</td>\n",
       "      <td>NaN</td>\n",
       "      <td>NaN</td>\n",
       "      <td>NaN</td>\n",
       "      <td>NaN</td>\n",
       "    </tr>\n",
       "    <tr>\n",
       "      <th>4</th>\n",
       "      <td>Harry Potter and the Order of the Phoenix</td>\n",
       "      <td>J.K. Rowling</td>\n",
       "      <td>4.50</td>\n",
       "      <td>2,581,093 ratings</td>\n",
       "      <td>43,636 reviews</td>\n",
       "      <td>870 pages</td>\n",
       "      <td>Published September 2004 by Scholastic Inc. (f...</td>\n",
       "      <td>NaN</td>\n",
       "      <td>Harry Potter #5</td>\n",
       "      <td>Bram Stoker Award for Works for Young Readers ...</td>\n",
       "      <td>NaN</td>\n",
       "      <td>NaN</td>\n",
       "      <td>NaN</td>\n",
       "      <td>NaN</td>\n",
       "    </tr>\n",
       "  </tbody>\n",
       "</table>\n",
       "</div>"
      ],
      "text/plain": [
       "                                       Title           author  rating  \\\n",
       "0       Harry Potter and the Deathly Hallows     J.K. Rowling    4.62   \n",
       "1                           The Hunger Games  Suzanne Collins    4.33   \n",
       "2     Harry Potter and the Half-Blood Prince     J.K. Rowling    4.57   \n",
       "3        Harry Potter and the Goblet of Fire     J.K. Rowling    4.56   \n",
       "4  Harry Potter and the Order of the Phoenix     J.K. Rowling    4.50   \n",
       "\n",
       "          num_rating      num_reviews      pages  \\\n",
       "0  2,883,244 ratings   66,759 reviews  759 pages   \n",
       "1  6,533,809 ratings  173,706 reviews  374 pages   \n",
       "2  2,506,722 ratings   40,531 reviews        NaN   \n",
       "3  2,672,283 ratings   47,871 reviews  734 pages   \n",
       "4  2,581,093 ratings   43,636 reviews  870 pages   \n",
       "\n",
       "                                        publish_year  \\\n",
       "0  Published July 21st 2007 by Arthur A. Levine B...   \n",
       "1  Published September 14th 2008 by Scholastic Press   \n",
       "2  Published September 16th 2006 by Scholastic In...   \n",
       "3  Published September 28th 2002 by Scholastic (f...   \n",
       "4  Published September 2004 by Scholastic Inc. (f...   \n",
       "\n",
       "                                                 url               series  \\\n",
       "0  https://www.arthuralevinebooks.com/harry-potte...      Harry Potter #7   \n",
       "1                                                NaN  The Hunger Games #1   \n",
       "2                                    Harry Potter #6         Draco Malfoy   \n",
       "3                                    Harry Potter #4         Sirius Black   \n",
       "4                                                NaN      Harry Potter #5   \n",
       "\n",
       "                                              awards      genre_1  \\\n",
       "0  Locus Award Nominee for Best Young Adult Novel...      Fantasy   \n",
       "1  Locus Award Nominee for Best Young Adult Book ...  Young Adult   \n",
       "2                                                NaN          NaN   \n",
       "3                                                NaN          NaN   \n",
       "4  Bram Stoker Award for Works for Young Readers ...          NaN   \n",
       "\n",
       "       genre_2          genre_3 places  \n",
       "0  Young Adult          Fiction    NaN  \n",
       "1      Fiction  Science Fiction    NaN  \n",
       "2          NaN              NaN    NaN  \n",
       "3          NaN              NaN    NaN  \n",
       "4          NaN              NaN    NaN  "
      ]
     },
     "execution_count": 357,
     "metadata": {},
     "output_type": "execute_result"
    }
   ],
   "source": [
    "df.head()"
   ]
  },
  {
   "cell_type": "code",
   "execution_count": 358,
   "metadata": {},
   "outputs": [
    {
     "data": {
      "text/plain": [
       "Title            object\n",
       "author           object\n",
       "rating          float64\n",
       "num_rating       object\n",
       "num_reviews      object\n",
       "pages            object\n",
       "publish_year     object\n",
       "url              object\n",
       "series           object\n",
       "awards           object\n",
       "genre_1          object\n",
       "genre_2          object\n",
       "genre_3          object\n",
       "places           object\n",
       "dtype: object"
      ]
     },
     "execution_count": 358,
     "metadata": {},
     "output_type": "execute_result"
    }
   ],
   "source": [
    "df.dtypes"
   ]
  },
  {
   "cell_type": "markdown",
   "metadata": {},
   "source": [
    "## num_rating"
   ]
  },
  {
   "cell_type": "code",
   "execution_count": 359,
   "metadata": {},
   "outputs": [
    {
     "data": {
      "text/html": [
       "<div>\n",
       "<style scoped>\n",
       "    .dataframe tbody tr th:only-of-type {\n",
       "        vertical-align: middle;\n",
       "    }\n",
       "\n",
       "    .dataframe tbody tr th {\n",
       "        vertical-align: top;\n",
       "    }\n",
       "\n",
       "    .dataframe thead th {\n",
       "        text-align: right;\n",
       "    }\n",
       "</style>\n",
       "<table border=\"1\" class=\"dataframe\">\n",
       "  <thead>\n",
       "    <tr style=\"text-align: right;\">\n",
       "      <th></th>\n",
       "      <th>Title</th>\n",
       "      <th>author</th>\n",
       "      <th>rating</th>\n",
       "      <th>num_rating</th>\n",
       "      <th>num_reviews</th>\n",
       "      <th>pages</th>\n",
       "      <th>publish_year</th>\n",
       "      <th>url</th>\n",
       "      <th>series</th>\n",
       "      <th>awards</th>\n",
       "      <th>genre_1</th>\n",
       "      <th>genre_2</th>\n",
       "      <th>genre_3</th>\n",
       "      <th>places</th>\n",
       "    </tr>\n",
       "  </thead>\n",
       "  <tbody>\n",
       "    <tr>\n",
       "      <th>0</th>\n",
       "      <td>Harry Potter and the Deathly Hallows</td>\n",
       "      <td>J.K. Rowling</td>\n",
       "      <td>4.62</td>\n",
       "      <td>2,883,244</td>\n",
       "      <td>66,759 reviews</td>\n",
       "      <td>759 pages</td>\n",
       "      <td>Published July 21st 2007 by Arthur A. Levine B...</td>\n",
       "      <td>https://www.arthuralevinebooks.com/harry-potte...</td>\n",
       "      <td>Harry Potter #7</td>\n",
       "      <td>Locus Award Nominee for Best Young Adult Novel...</td>\n",
       "      <td>Fantasy</td>\n",
       "      <td>Young Adult</td>\n",
       "      <td>Fiction</td>\n",
       "      <td>NaN</td>\n",
       "    </tr>\n",
       "    <tr>\n",
       "      <th>1</th>\n",
       "      <td>The Hunger Games</td>\n",
       "      <td>Suzanne Collins</td>\n",
       "      <td>4.33</td>\n",
       "      <td>6,533,809</td>\n",
       "      <td>173,706 reviews</td>\n",
       "      <td>374 pages</td>\n",
       "      <td>Published September 14th 2008 by Scholastic Press</td>\n",
       "      <td>NaN</td>\n",
       "      <td>The Hunger Games #1</td>\n",
       "      <td>Locus Award Nominee for Best Young Adult Book ...</td>\n",
       "      <td>Young Adult</td>\n",
       "      <td>Fiction</td>\n",
       "      <td>Science Fiction</td>\n",
       "      <td>NaN</td>\n",
       "    </tr>\n",
       "  </tbody>\n",
       "</table>\n",
       "</div>"
      ],
      "text/plain": [
       "                                  Title           author  rating num_rating  \\\n",
       "0  Harry Potter and the Deathly Hallows     J.K. Rowling    4.62  2,883,244   \n",
       "1                      The Hunger Games  Suzanne Collins    4.33  6,533,809   \n",
       "\n",
       "       num_reviews      pages  \\\n",
       "0   66,759 reviews  759 pages   \n",
       "1  173,706 reviews  374 pages   \n",
       "\n",
       "                                        publish_year  \\\n",
       "0  Published July 21st 2007 by Arthur A. Levine B...   \n",
       "1  Published September 14th 2008 by Scholastic Press   \n",
       "\n",
       "                                                 url               series  \\\n",
       "0  https://www.arthuralevinebooks.com/harry-potte...      Harry Potter #7   \n",
       "1                                                NaN  The Hunger Games #1   \n",
       "\n",
       "                                              awards      genre_1  \\\n",
       "0  Locus Award Nominee for Best Young Adult Novel...      Fantasy   \n",
       "1  Locus Award Nominee for Best Young Adult Book ...  Young Adult   \n",
       "\n",
       "       genre_2          genre_3 places  \n",
       "0  Young Adult          Fiction    NaN  \n",
       "1      Fiction  Science Fiction    NaN  "
      ]
     },
     "execution_count": 359,
     "metadata": {},
     "output_type": "execute_result"
    }
   ],
   "source": [
    "df['num_rating']=df['num_rating'].astype(str)\n",
    "df['num_rating']=df['num_rating'].apply(lambda x:x.replace(' ratings',''))\n",
    "df['num_rating']=df['num_rating'].astype(object)\n",
    "df.head(2)"
   ]
  },
  {
   "cell_type": "markdown",
   "metadata": {},
   "source": [
    "## 2. num_reviews"
   ]
  },
  {
   "cell_type": "code",
   "execution_count": 360,
   "metadata": {},
   "outputs": [
    {
     "data": {
      "text/plain": [
       "'66,759 reviews'"
      ]
     },
     "execution_count": 360,
     "metadata": {},
     "output_type": "execute_result"
    }
   ],
   "source": [
    "df['num_reviews'][0]"
   ]
  },
  {
   "cell_type": "code",
   "execution_count": 361,
   "metadata": {},
   "outputs": [
    {
     "data": {
      "text/html": [
       "<div>\n",
       "<style scoped>\n",
       "    .dataframe tbody tr th:only-of-type {\n",
       "        vertical-align: middle;\n",
       "    }\n",
       "\n",
       "    .dataframe tbody tr th {\n",
       "        vertical-align: top;\n",
       "    }\n",
       "\n",
       "    .dataframe thead th {\n",
       "        text-align: right;\n",
       "    }\n",
       "</style>\n",
       "<table border=\"1\" class=\"dataframe\">\n",
       "  <thead>\n",
       "    <tr style=\"text-align: right;\">\n",
       "      <th></th>\n",
       "      <th>Title</th>\n",
       "      <th>author</th>\n",
       "      <th>rating</th>\n",
       "      <th>num_rating</th>\n",
       "      <th>num_reviews</th>\n",
       "      <th>pages</th>\n",
       "      <th>publish_year</th>\n",
       "      <th>url</th>\n",
       "      <th>series</th>\n",
       "      <th>awards</th>\n",
       "      <th>genre_1</th>\n",
       "      <th>genre_2</th>\n",
       "      <th>genre_3</th>\n",
       "      <th>places</th>\n",
       "    </tr>\n",
       "  </thead>\n",
       "  <tbody>\n",
       "    <tr>\n",
       "      <th>0</th>\n",
       "      <td>Harry Potter and the Deathly Hallows</td>\n",
       "      <td>J.K. Rowling</td>\n",
       "      <td>4.62</td>\n",
       "      <td>2,883,244</td>\n",
       "      <td>66,759</td>\n",
       "      <td>759 pages</td>\n",
       "      <td>Published July 21st 2007 by Arthur A. Levine B...</td>\n",
       "      <td>https://www.arthuralevinebooks.com/harry-potte...</td>\n",
       "      <td>Harry Potter #7</td>\n",
       "      <td>Locus Award Nominee for Best Young Adult Novel...</td>\n",
       "      <td>Fantasy</td>\n",
       "      <td>Young Adult</td>\n",
       "      <td>Fiction</td>\n",
       "      <td>NaN</td>\n",
       "    </tr>\n",
       "  </tbody>\n",
       "</table>\n",
       "</div>"
      ],
      "text/plain": [
       "                                  Title        author  rating num_rating  \\\n",
       "0  Harry Potter and the Deathly Hallows  J.K. Rowling    4.62  2,883,244   \n",
       "\n",
       "  num_reviews      pages                                       publish_year  \\\n",
       "0      66,759  759 pages  Published July 21st 2007 by Arthur A. Levine B...   \n",
       "\n",
       "                                                 url           series  \\\n",
       "0  https://www.arthuralevinebooks.com/harry-potte...  Harry Potter #7   \n",
       "\n",
       "                                              awards  genre_1      genre_2  \\\n",
       "0  Locus Award Nominee for Best Young Adult Novel...  Fantasy  Young Adult   \n",
       "\n",
       "   genre_3 places  \n",
       "0  Fiction    NaN  "
      ]
     },
     "execution_count": 361,
     "metadata": {},
     "output_type": "execute_result"
    }
   ],
   "source": [
    "df['num_reviews']=df['num_reviews'].astype(str)\n",
    "df['num_reviews'] = df['num_reviews'].apply(lambda x:x.replace(' reviews',''))\n",
    "df['num_reviews']=df['num_reviews'].astype(object)\n",
    "df.head(1)"
   ]
  },
  {
   "cell_type": "markdown",
   "metadata": {},
   "source": [
    "## 3. pages"
   ]
  },
  {
   "cell_type": "code",
   "execution_count": 362,
   "metadata": {},
   "outputs": [
    {
     "data": {
      "text/plain": [
       "'759 pages'"
      ]
     },
     "execution_count": 362,
     "metadata": {},
     "output_type": "execute_result"
    }
   ],
   "source": [
    "df['pages'][0]"
   ]
  },
  {
   "cell_type": "code",
   "execution_count": 363,
   "metadata": {},
   "outputs": [
    {
     "data": {
      "text/html": [
       "<div>\n",
       "<style scoped>\n",
       "    .dataframe tbody tr th:only-of-type {\n",
       "        vertical-align: middle;\n",
       "    }\n",
       "\n",
       "    .dataframe tbody tr th {\n",
       "        vertical-align: top;\n",
       "    }\n",
       "\n",
       "    .dataframe thead th {\n",
       "        text-align: right;\n",
       "    }\n",
       "</style>\n",
       "<table border=\"1\" class=\"dataframe\">\n",
       "  <thead>\n",
       "    <tr style=\"text-align: right;\">\n",
       "      <th></th>\n",
       "      <th>Title</th>\n",
       "      <th>author</th>\n",
       "      <th>rating</th>\n",
       "      <th>num_rating</th>\n",
       "      <th>num_reviews</th>\n",
       "      <th>pages</th>\n",
       "      <th>publish_year</th>\n",
       "      <th>url</th>\n",
       "      <th>series</th>\n",
       "      <th>awards</th>\n",
       "      <th>genre_1</th>\n",
       "      <th>genre_2</th>\n",
       "      <th>genre_3</th>\n",
       "      <th>places</th>\n",
       "    </tr>\n",
       "  </thead>\n",
       "  <tbody>\n",
       "    <tr>\n",
       "      <th>0</th>\n",
       "      <td>Harry Potter and the Deathly Hallows</td>\n",
       "      <td>J.K. Rowling</td>\n",
       "      <td>4.62</td>\n",
       "      <td>2,883,244</td>\n",
       "      <td>66,759</td>\n",
       "      <td>759</td>\n",
       "      <td>Published July 21st 2007 by Arthur A. Levine B...</td>\n",
       "      <td>https://www.arthuralevinebooks.com/harry-potte...</td>\n",
       "      <td>Harry Potter #7</td>\n",
       "      <td>Locus Award Nominee for Best Young Adult Novel...</td>\n",
       "      <td>Fantasy</td>\n",
       "      <td>Young Adult</td>\n",
       "      <td>Fiction</td>\n",
       "      <td>NaN</td>\n",
       "    </tr>\n",
       "  </tbody>\n",
       "</table>\n",
       "</div>"
      ],
      "text/plain": [
       "                                  Title        author  rating num_rating  \\\n",
       "0  Harry Potter and the Deathly Hallows  J.K. Rowling    4.62  2,883,244   \n",
       "\n",
       "  num_reviews pages                                       publish_year  \\\n",
       "0      66,759   759  Published July 21st 2007 by Arthur A. Levine B...   \n",
       "\n",
       "                                                 url           series  \\\n",
       "0  https://www.arthuralevinebooks.com/harry-potte...  Harry Potter #7   \n",
       "\n",
       "                                              awards  genre_1      genre_2  \\\n",
       "0  Locus Award Nominee for Best Young Adult Novel...  Fantasy  Young Adult   \n",
       "\n",
       "   genre_3 places  \n",
       "0  Fiction    NaN  "
      ]
     },
     "execution_count": 363,
     "metadata": {},
     "output_type": "execute_result"
    }
   ],
   "source": [
    "df['pages']=df['pages'].astype(str)\n",
    "df['pages'] = df['pages'].apply(lambda x:x.replace(' pages',''))\n",
    "df['pages']=df['pages'].astype(object)\n",
    "df.head(1)"
   ]
  },
  {
   "cell_type": "markdown",
   "metadata": {},
   "source": [
    "## 4. genre_1, genre_2, genre3"
   ]
  },
  {
   "cell_type": "code",
   "execution_count": 364,
   "metadata": {},
   "outputs": [
    {
     "data": {
      "text/plain": [
       "Index(['genre_1', 'genre_2', 'genre_3'], dtype='object')"
      ]
     },
     "execution_count": 364,
     "metadata": {},
     "output_type": "execute_result"
    }
   ],
   "source": [
    "df.columns[10:13]"
   ]
  },
  {
   "cell_type": "code",
   "execution_count": 365,
   "metadata": {},
   "outputs": [],
   "source": [
    "df['genre'] = df[df.columns[10:13]].apply(lambda x: ','.join(x.dropna().astype(str)),axis=1)\n",
    "df.drop(['genre_1', 'genre_2', 'genre_3'], axis=1, inplace=True)\n",
    "df['genre'] = df['genre'].replace('', 'missing')"
   ]
  },
  {
   "cell_type": "code",
   "execution_count": 366,
   "metadata": {},
   "outputs": [
    {
     "data": {
      "text/html": [
       "<div>\n",
       "<style scoped>\n",
       "    .dataframe tbody tr th:only-of-type {\n",
       "        vertical-align: middle;\n",
       "    }\n",
       "\n",
       "    .dataframe tbody tr th {\n",
       "        vertical-align: top;\n",
       "    }\n",
       "\n",
       "    .dataframe thead th {\n",
       "        text-align: right;\n",
       "    }\n",
       "</style>\n",
       "<table border=\"1\" class=\"dataframe\">\n",
       "  <thead>\n",
       "    <tr style=\"text-align: right;\">\n",
       "      <th></th>\n",
       "      <th>Title</th>\n",
       "      <th>author</th>\n",
       "      <th>rating</th>\n",
       "      <th>num_rating</th>\n",
       "      <th>num_reviews</th>\n",
       "      <th>pages</th>\n",
       "      <th>publish_year</th>\n",
       "      <th>url</th>\n",
       "      <th>series</th>\n",
       "      <th>awards</th>\n",
       "      <th>places</th>\n",
       "      <th>genre</th>\n",
       "    </tr>\n",
       "  </thead>\n",
       "  <tbody>\n",
       "    <tr>\n",
       "      <th>0</th>\n",
       "      <td>Harry Potter and the Deathly Hallows</td>\n",
       "      <td>J.K. Rowling</td>\n",
       "      <td>4.62</td>\n",
       "      <td>2,883,244</td>\n",
       "      <td>66,759</td>\n",
       "      <td>759</td>\n",
       "      <td>Published July 21st 2007 by Arthur A. Levine B...</td>\n",
       "      <td>https://www.arthuralevinebooks.com/harry-potte...</td>\n",
       "      <td>Harry Potter #7</td>\n",
       "      <td>Locus Award Nominee for Best Young Adult Novel...</td>\n",
       "      <td>NaN</td>\n",
       "      <td>Fantasy,Young Adult,Fiction</td>\n",
       "    </tr>\n",
       "    <tr>\n",
       "      <th>1</th>\n",
       "      <td>The Hunger Games</td>\n",
       "      <td>Suzanne Collins</td>\n",
       "      <td>4.33</td>\n",
       "      <td>6,533,809</td>\n",
       "      <td>173,706</td>\n",
       "      <td>374</td>\n",
       "      <td>Published September 14th 2008 by Scholastic Press</td>\n",
       "      <td>NaN</td>\n",
       "      <td>The Hunger Games #1</td>\n",
       "      <td>Locus Award Nominee for Best Young Adult Book ...</td>\n",
       "      <td>NaN</td>\n",
       "      <td>Young Adult,Fiction,Science Fiction</td>\n",
       "    </tr>\n",
       "    <tr>\n",
       "      <th>2</th>\n",
       "      <td>Harry Potter and the Half-Blood Prince</td>\n",
       "      <td>J.K. Rowling</td>\n",
       "      <td>4.57</td>\n",
       "      <td>2,506,722</td>\n",
       "      <td>40,531</td>\n",
       "      <td>nan</td>\n",
       "      <td>Published September 16th 2006 by Scholastic In...</td>\n",
       "      <td>Harry Potter #6</td>\n",
       "      <td>Draco Malfoy</td>\n",
       "      <td>NaN</td>\n",
       "      <td>NaN</td>\n",
       "      <td>missing</td>\n",
       "    </tr>\n",
       "  </tbody>\n",
       "</table>\n",
       "</div>"
      ],
      "text/plain": [
       "                                    Title           author  rating num_rating  \\\n",
       "0    Harry Potter and the Deathly Hallows     J.K. Rowling    4.62  2,883,244   \n",
       "1                        The Hunger Games  Suzanne Collins    4.33  6,533,809   \n",
       "2  Harry Potter and the Half-Blood Prince     J.K. Rowling    4.57  2,506,722   \n",
       "\n",
       "  num_reviews pages                                       publish_year  \\\n",
       "0      66,759   759  Published July 21st 2007 by Arthur A. Levine B...   \n",
       "1     173,706   374  Published September 14th 2008 by Scholastic Press   \n",
       "2      40,531   nan  Published September 16th 2006 by Scholastic In...   \n",
       "\n",
       "                                                 url               series  \\\n",
       "0  https://www.arthuralevinebooks.com/harry-potte...      Harry Potter #7   \n",
       "1                                                NaN  The Hunger Games #1   \n",
       "2                                    Harry Potter #6         Draco Malfoy   \n",
       "\n",
       "                                              awards places  \\\n",
       "0  Locus Award Nominee for Best Young Adult Novel...    NaN   \n",
       "1  Locus Award Nominee for Best Young Adult Book ...    NaN   \n",
       "2                                                NaN    NaN   \n",
       "\n",
       "                                 genre  \n",
       "0          Fantasy,Young Adult,Fiction  \n",
       "1  Young Adult,Fiction,Science Fiction  \n",
       "2                              missing  "
      ]
     },
     "execution_count": 366,
     "metadata": {},
     "output_type": "execute_result"
    }
   ],
   "source": [
    "df.head(3)"
   ]
  },
  {
   "cell_type": "markdown",
   "metadata": {},
   "source": [
    "## 5. series"
   ]
  },
  {
   "cell_type": "code",
   "execution_count": 367,
   "metadata": {},
   "outputs": [
    {
     "data": {
      "text/plain": [
       "'Harry Potter #7'"
      ]
     },
     "execution_count": 367,
     "metadata": {},
     "output_type": "execute_result"
    }
   ],
   "source": [
    "df['series'][0]"
   ]
  },
  {
   "cell_type": "code",
   "execution_count": 368,
   "metadata": {},
   "outputs": [],
   "source": [
    "df['series'] = df['series'].astype(str)\n",
    "df['series_bin'] = df['series'].apply(lambda x:1 if '#' in x else 0)\n",
    "df.drop('series', axis=1, inplace=True)"
   ]
  },
  {
   "cell_type": "code",
   "execution_count": 369,
   "metadata": {},
   "outputs": [
    {
     "data": {
      "text/html": [
       "<div>\n",
       "<style scoped>\n",
       "    .dataframe tbody tr th:only-of-type {\n",
       "        vertical-align: middle;\n",
       "    }\n",
       "\n",
       "    .dataframe tbody tr th {\n",
       "        vertical-align: top;\n",
       "    }\n",
       "\n",
       "    .dataframe thead th {\n",
       "        text-align: right;\n",
       "    }\n",
       "</style>\n",
       "<table border=\"1\" class=\"dataframe\">\n",
       "  <thead>\n",
       "    <tr style=\"text-align: right;\">\n",
       "      <th></th>\n",
       "      <th>Title</th>\n",
       "      <th>author</th>\n",
       "      <th>rating</th>\n",
       "      <th>num_rating</th>\n",
       "      <th>num_reviews</th>\n",
       "      <th>pages</th>\n",
       "      <th>publish_year</th>\n",
       "      <th>url</th>\n",
       "      <th>awards</th>\n",
       "      <th>places</th>\n",
       "      <th>genre</th>\n",
       "      <th>series_bin</th>\n",
       "    </tr>\n",
       "  </thead>\n",
       "  <tbody>\n",
       "    <tr>\n",
       "      <th>0</th>\n",
       "      <td>Harry Potter and the Deathly Hallows</td>\n",
       "      <td>J.K. Rowling</td>\n",
       "      <td>4.62</td>\n",
       "      <td>2,883,244</td>\n",
       "      <td>66,759</td>\n",
       "      <td>759</td>\n",
       "      <td>Published July 21st 2007 by Arthur A. Levine B...</td>\n",
       "      <td>https://www.arthuralevinebooks.com/harry-potte...</td>\n",
       "      <td>Locus Award Nominee for Best Young Adult Novel...</td>\n",
       "      <td>NaN</td>\n",
       "      <td>Fantasy,Young Adult,Fiction</td>\n",
       "      <td>1</td>\n",
       "    </tr>\n",
       "    <tr>\n",
       "      <th>1</th>\n",
       "      <td>The Hunger Games</td>\n",
       "      <td>Suzanne Collins</td>\n",
       "      <td>4.33</td>\n",
       "      <td>6,533,809</td>\n",
       "      <td>173,706</td>\n",
       "      <td>374</td>\n",
       "      <td>Published September 14th 2008 by Scholastic Press</td>\n",
       "      <td>NaN</td>\n",
       "      <td>Locus Award Nominee for Best Young Adult Book ...</td>\n",
       "      <td>NaN</td>\n",
       "      <td>Young Adult,Fiction,Science Fiction</td>\n",
       "      <td>1</td>\n",
       "    </tr>\n",
       "    <tr>\n",
       "      <th>2</th>\n",
       "      <td>Harry Potter and the Half-Blood Prince</td>\n",
       "      <td>J.K. Rowling</td>\n",
       "      <td>4.57</td>\n",
       "      <td>2,506,722</td>\n",
       "      <td>40,531</td>\n",
       "      <td>nan</td>\n",
       "      <td>Published September 16th 2006 by Scholastic In...</td>\n",
       "      <td>Harry Potter #6</td>\n",
       "      <td>NaN</td>\n",
       "      <td>NaN</td>\n",
       "      <td>missing</td>\n",
       "      <td>0</td>\n",
       "    </tr>\n",
       "  </tbody>\n",
       "</table>\n",
       "</div>"
      ],
      "text/plain": [
       "                                    Title           author  rating num_rating  \\\n",
       "0    Harry Potter and the Deathly Hallows     J.K. Rowling    4.62  2,883,244   \n",
       "1                        The Hunger Games  Suzanne Collins    4.33  6,533,809   \n",
       "2  Harry Potter and the Half-Blood Prince     J.K. Rowling    4.57  2,506,722   \n",
       "\n",
       "  num_reviews pages                                       publish_year  \\\n",
       "0      66,759   759  Published July 21st 2007 by Arthur A. Levine B...   \n",
       "1     173,706   374  Published September 14th 2008 by Scholastic Press   \n",
       "2      40,531   nan  Published September 16th 2006 by Scholastic In...   \n",
       "\n",
       "                                                 url  \\\n",
       "0  https://www.arthuralevinebooks.com/harry-potte...   \n",
       "1                                                NaN   \n",
       "2                                    Harry Potter #6   \n",
       "\n",
       "                                              awards places  \\\n",
       "0  Locus Award Nominee for Best Young Adult Novel...    NaN   \n",
       "1  Locus Award Nominee for Best Young Adult Book ...    NaN   \n",
       "2                                                NaN    NaN   \n",
       "\n",
       "                                 genre  series_bin  \n",
       "0          Fantasy,Young Adult,Fiction           1  \n",
       "1  Young Adult,Fiction,Science Fiction           1  \n",
       "2                              missing           0  "
      ]
     },
     "execution_count": 369,
     "metadata": {},
     "output_type": "execute_result"
    }
   ],
   "source": [
    "df.head(3)"
   ]
  },
  {
   "cell_type": "markdown",
   "metadata": {},
   "source": [
    "## 6. places"
   ]
  },
  {
   "cell_type": "code",
   "execution_count": 370,
   "metadata": {},
   "outputs": [],
   "source": [
    "df['places'].replace(np.nan , 'missing', inplace=True)\n",
    "df['places'].replace(['All Editions | Add a New Edition | Combine', ''] , 'missing', inplace=True)"
   ]
  },
  {
   "cell_type": "markdown",
   "metadata": {},
   "source": [
    "## 7. url"
   ]
  },
  {
   "cell_type": "code",
   "execution_count": 371,
   "metadata": {},
   "outputs": [
    {
     "data": {
      "text/plain": [
       "1532"
      ]
     },
     "execution_count": 371,
     "metadata": {},
     "output_type": "execute_result"
    }
   ],
   "source": [
    "df['url'].isnull().sum()"
   ]
  },
  {
   "cell_type": "code",
   "execution_count": 372,
   "metadata": {},
   "outputs": [],
   "source": [
    "df['url'].replace(np.nan, 'missing', inplace=True)"
   ]
  },
  {
   "cell_type": "markdown",
   "metadata": {},
   "source": [
    "## 8. publish year"
   ]
  },
  {
   "cell_type": "code",
   "execution_count": 373,
   "metadata": {},
   "outputs": [
    {
     "data": {
      "text/plain": [
       "0    Published July 21st 2007 by Arthur A. Levine B...\n",
       "1    Published September 14th 2008 by Scholastic Press\n",
       "2    Published September 16th 2006 by Scholastic In...\n",
       "3    Published September 28th 2002 by Scholastic (f...\n",
       "4    Published September 2004 by Scholastic Inc. (f...\n",
       "5    Published March 14th 2006 by Alfred A. Knopf (...\n",
       "Name: publish_year, dtype: object"
      ]
     },
     "execution_count": 373,
     "metadata": {},
     "output_type": "execute_result"
    }
   ],
   "source": [
    "df['publish_year'][0:6]"
   ]
  },
  {
   "cell_type": "code",
   "execution_count": 374,
   "metadata": {},
   "outputs": [],
   "source": [
    "df['publish_year'] = df['publish_year'].astype(str)\n",
    "keep_year = df['publish_year'].apply(lambda x:x.split('by')[0])"
   ]
  },
  {
   "cell_type": "code",
   "execution_count": 375,
   "metadata": {},
   "outputs": [
    {
     "data": {
      "text/plain": [
       "0            Published July 21st 2007 \n",
       "1       Published September 14th 2008 \n",
       "2       Published September 16th 2006 \n",
       "3       Published September 28th 2002 \n",
       "4            Published September 2004 \n",
       "                     ...              \n",
       "2078         Published July 13th 2004 \n",
       "2079          Published May 31st 2005 \n",
       "2080         Published March 6th 2007 \n",
       "2081        Published August 3rd 2004 \n",
       "2082        Published April 15th 2003 \n",
       "Name: publish_year, Length: 1638, dtype: object"
      ]
     },
     "execution_count": 375,
     "metadata": {},
     "output_type": "execute_result"
    }
   ],
   "source": [
    "keep_year"
   ]
  },
  {
   "cell_type": "code",
   "execution_count": 376,
   "metadata": {},
   "outputs": [],
   "source": [
    "df['publish_year'] = keep_year.apply(lambda x:x.replace('Published ', ''))\n",
    "df['publish_year'] = df['publish_year'].apply(lambda x:x.replace('st',',').replace('th', ',').replace('rd',','))"
   ]
  },
  {
   "cell_type": "code",
   "execution_count": 379,
   "metadata": {},
   "outputs": [
    {
     "data": {
      "text/html": [
       "<div>\n",
       "<style scoped>\n",
       "    .dataframe tbody tr th:only-of-type {\n",
       "        vertical-align: middle;\n",
       "    }\n",
       "\n",
       "    .dataframe tbody tr th {\n",
       "        vertical-align: top;\n",
       "    }\n",
       "\n",
       "    .dataframe thead th {\n",
       "        text-align: right;\n",
       "    }\n",
       "</style>\n",
       "<table border=\"1\" class=\"dataframe\">\n",
       "  <thead>\n",
       "    <tr style=\"text-align: right;\">\n",
       "      <th></th>\n",
       "      <th>Title</th>\n",
       "      <th>author</th>\n",
       "      <th>rating</th>\n",
       "      <th>num_rating</th>\n",
       "      <th>num_reviews</th>\n",
       "      <th>pages</th>\n",
       "      <th>publish_year</th>\n",
       "      <th>url</th>\n",
       "      <th>awards</th>\n",
       "      <th>places</th>\n",
       "      <th>genre</th>\n",
       "      <th>series_bin</th>\n",
       "    </tr>\n",
       "  </thead>\n",
       "  <tbody>\n",
       "    <tr>\n",
       "      <th>0</th>\n",
       "      <td>Harry Potter and the Deathly Hallows</td>\n",
       "      <td>J.K. Rowling</td>\n",
       "      <td>4.62</td>\n",
       "      <td>2,883,244</td>\n",
       "      <td>66,759</td>\n",
       "      <td>759</td>\n",
       "      <td>July 21, 2007</td>\n",
       "      <td>https://www.arthuralevinebooks.com/harry-potte...</td>\n",
       "      <td>Locus Award Nominee for Best Young Adult Novel...</td>\n",
       "      <td>missing</td>\n",
       "      <td>Fantasy,Young Adult,Fiction</td>\n",
       "      <td>1</td>\n",
       "    </tr>\n",
       "    <tr>\n",
       "      <th>1</th>\n",
       "      <td>The Hunger Games</td>\n",
       "      <td>Suzanne Collins</td>\n",
       "      <td>4.33</td>\n",
       "      <td>6,533,809</td>\n",
       "      <td>173,706</td>\n",
       "      <td>374</td>\n",
       "      <td>September 14, 2008</td>\n",
       "      <td>missing</td>\n",
       "      <td>Locus Award Nominee for Best Young Adult Book ...</td>\n",
       "      <td>missing</td>\n",
       "      <td>Young Adult,Fiction,Science Fiction</td>\n",
       "      <td>1</td>\n",
       "    </tr>\n",
       "  </tbody>\n",
       "</table>\n",
       "</div>"
      ],
      "text/plain": [
       "                                  Title           author  rating num_rating  \\\n",
       "0  Harry Potter and the Deathly Hallows     J.K. Rowling    4.62  2,883,244   \n",
       "1                      The Hunger Games  Suzanne Collins    4.33  6,533,809   \n",
       "\n",
       "  num_reviews pages         publish_year  \\\n",
       "0      66,759   759       July 21, 2007    \n",
       "1     173,706   374  September 14, 2008    \n",
       "\n",
       "                                                 url  \\\n",
       "0  https://www.arthuralevinebooks.com/harry-potte...   \n",
       "1                                            missing   \n",
       "\n",
       "                                              awards   places  \\\n",
       "0  Locus Award Nominee for Best Young Adult Novel...  missing   \n",
       "1  Locus Award Nominee for Best Young Adult Book ...  missing   \n",
       "\n",
       "                                 genre  series_bin  \n",
       "0          Fantasy,Young Adult,Fiction           1  \n",
       "1  Young Adult,Fiction,Science Fiction           1  "
      ]
     },
     "execution_count": 379,
     "metadata": {},
     "output_type": "execute_result"
    }
   ],
   "source": [
    "df.head(2)df['mean_norm_ratings'] = 1 + (df['rating'] - df['rating'].mean()) / (df['rating'].max() - df['rating'].min()) * 9"
   ]
  },
  {
   "cell_type": "markdown",
   "metadata": {},
   "source": [
    "# preprocessing"
   ]
  },
  {
   "cell_type": "code",
   "execution_count": 377,
   "metadata": {},
   "outputs": [],
   "source": [
    "from sklearn.preprocessing import MinMaxScaler"
   ]
  },
  {
   "cell_type": "code",
   "execution_count": 380,
   "metadata": {},
   "outputs": [],
   "source": [
    "scaler = MinMaxScaler((1, 10))\n",
    "df['minmax_norm_rating'] = scaler.fit_transform(df[['rating']])\n"
   ]
  },
  {
   "cell_type": "code",
   "execution_count": 383,
   "metadata": {},
   "outputs": [],
   "source": [
    "df['mean_norm_ratings'] = 1 + (df['rating'] - df['rating'].mean()) / (df['rating'].max() - df['rating'].min()) * 9"
   ]
  },
  {
   "cell_type": "code",
   "execution_count": 384,
   "metadata": {},
   "outputs": [
    {
     "data": {
      "text/html": [
       "<div>\n",
       "<style scoped>\n",
       "    .dataframe tbody tr th:only-of-type {\n",
       "        vertical-align: middle;\n",
       "    }\n",
       "\n",
       "    .dataframe tbody tr th {\n",
       "        vertical-align: top;\n",
       "    }\n",
       "\n",
       "    .dataframe thead th {\n",
       "        text-align: right;\n",
       "    }\n",
       "</style>\n",
       "<table border=\"1\" class=\"dataframe\">\n",
       "  <thead>\n",
       "    <tr style=\"text-align: right;\">\n",
       "      <th></th>\n",
       "      <th>Title</th>\n",
       "      <th>author</th>\n",
       "      <th>rating</th>\n",
       "      <th>num_rating</th>\n",
       "      <th>num_reviews</th>\n",
       "      <th>pages</th>\n",
       "      <th>publish_year</th>\n",
       "      <th>url</th>\n",
       "      <th>awards</th>\n",
       "      <th>places</th>\n",
       "      <th>genre</th>\n",
       "      <th>series_bin</th>\n",
       "      <th>minmax_norm_rating</th>\n",
       "      <th>mean_norm_ratings</th>\n",
       "    </tr>\n",
       "  </thead>\n",
       "  <tbody>\n",
       "    <tr>\n",
       "      <th>0</th>\n",
       "      <td>Harry Potter and the Deathly Hallows</td>\n",
       "      <td>J.K. Rowling</td>\n",
       "      <td>4.62</td>\n",
       "      <td>2,883,244</td>\n",
       "      <td>66,759</td>\n",
       "      <td>759</td>\n",
       "      <td>July 21, 2007</td>\n",
       "      <td>https://www.arthuralevinebooks.com/harry-potte...</td>\n",
       "      <td>Locus Award Nominee for Best Young Adult Novel...</td>\n",
       "      <td>missing</td>\n",
       "      <td>Fantasy,Young Adult,Fiction</td>\n",
       "      <td>1</td>\n",
       "      <td>9.005814</td>\n",
       "      <td>4.343691</td>\n",
       "    </tr>\n",
       "    <tr>\n",
       "      <th>1</th>\n",
       "      <td>The Hunger Games</td>\n",
       "      <td>Suzanne Collins</td>\n",
       "      <td>4.33</td>\n",
       "      <td>6,533,809</td>\n",
       "      <td>173,706</td>\n",
       "      <td>374</td>\n",
       "      <td>September 14, 2008</td>\n",
       "      <td>missing</td>\n",
       "      <td>Locus Award Nominee for Best Young Adult Book ...</td>\n",
       "      <td>missing</td>\n",
       "      <td>Young Adult,Fiction,Science Fiction</td>\n",
       "      <td>1</td>\n",
       "      <td>7.488372</td>\n",
       "      <td>2.826249</td>\n",
       "    </tr>\n",
       "    <tr>\n",
       "      <th>2</th>\n",
       "      <td>Harry Potter and the Half-Blood Prince</td>\n",
       "      <td>J.K. Rowling</td>\n",
       "      <td>4.57</td>\n",
       "      <td>2,506,722</td>\n",
       "      <td>40,531</td>\n",
       "      <td>nan</td>\n",
       "      <td>September 16, 2006</td>\n",
       "      <td>Harry Potter #6</td>\n",
       "      <td>NaN</td>\n",
       "      <td>missing</td>\n",
       "      <td>missing</td>\n",
       "      <td>0</td>\n",
       "      <td>8.744186</td>\n",
       "      <td>4.082063</td>\n",
       "    </tr>\n",
       "    <tr>\n",
       "      <th>3</th>\n",
       "      <td>Harry Potter and the Goblet of Fire</td>\n",
       "      <td>J.K. Rowling</td>\n",
       "      <td>4.56</td>\n",
       "      <td>2,672,283</td>\n",
       "      <td>47,871</td>\n",
       "      <td>734</td>\n",
       "      <td>September 28, 2002</td>\n",
       "      <td>Harry Potter #4</td>\n",
       "      <td>NaN</td>\n",
       "      <td>missing</td>\n",
       "      <td>missing</td>\n",
       "      <td>0</td>\n",
       "      <td>8.691860</td>\n",
       "      <td>4.029737</td>\n",
       "    </tr>\n",
       "    <tr>\n",
       "      <th>4</th>\n",
       "      <td>Harry Potter and the Order of the Phoenix</td>\n",
       "      <td>J.K. Rowling</td>\n",
       "      <td>4.50</td>\n",
       "      <td>2,581,093</td>\n",
       "      <td>43,636</td>\n",
       "      <td>870</td>\n",
       "      <td>September 2004</td>\n",
       "      <td>missing</td>\n",
       "      <td>Bram Stoker Award for Works for Young Readers ...</td>\n",
       "      <td>missing</td>\n",
       "      <td>missing</td>\n",
       "      <td>1</td>\n",
       "      <td>8.377907</td>\n",
       "      <td>3.715784</td>\n",
       "    </tr>\n",
       "  </tbody>\n",
       "</table>\n",
       "</div>"
      ],
      "text/plain": [
       "                                       Title           author  rating  \\\n",
       "0       Harry Potter and the Deathly Hallows     J.K. Rowling    4.62   \n",
       "1                           The Hunger Games  Suzanne Collins    4.33   \n",
       "2     Harry Potter and the Half-Blood Prince     J.K. Rowling    4.57   \n",
       "3        Harry Potter and the Goblet of Fire     J.K. Rowling    4.56   \n",
       "4  Harry Potter and the Order of the Phoenix     J.K. Rowling    4.50   \n",
       "\n",
       "  num_rating num_reviews pages         publish_year  \\\n",
       "0  2,883,244      66,759   759       July 21, 2007    \n",
       "1  6,533,809     173,706   374  September 14, 2008    \n",
       "2  2,506,722      40,531   nan  September 16, 2006    \n",
       "3  2,672,283      47,871   734  September 28, 2002    \n",
       "4  2,581,093      43,636   870      September 2004    \n",
       "\n",
       "                                                 url  \\\n",
       "0  https://www.arthuralevinebooks.com/harry-potte...   \n",
       "1                                            missing   \n",
       "2                                    Harry Potter #6   \n",
       "3                                    Harry Potter #4   \n",
       "4                                            missing   \n",
       "\n",
       "                                              awards   places  \\\n",
       "0  Locus Award Nominee for Best Young Adult Novel...  missing   \n",
       "1  Locus Award Nominee for Best Young Adult Book ...  missing   \n",
       "2                                                NaN  missing   \n",
       "3                                                NaN  missing   \n",
       "4  Bram Stoker Award for Works for Young Readers ...  missing   \n",
       "\n",
       "                                 genre  series_bin  minmax_norm_rating  \\\n",
       "0          Fantasy,Young Adult,Fiction           1            9.005814   \n",
       "1  Young Adult,Fiction,Science Fiction           1            7.488372   \n",
       "2                              missing           0            8.744186   \n",
       "3                              missing           0            8.691860   \n",
       "4                              missing           1            8.377907   \n",
       "\n",
       "   mean_norm_ratings  \n",
       "0           4.343691  \n",
       "1           2.826249  \n",
       "2           4.082063  \n",
       "3           4.029737  \n",
       "4           3.715784  "
      ]
     },
     "execution_count": 384,
     "metadata": {},
     "output_type": "execute_result"
    }
   ],
   "source": [
    "df.head()"
   ]
  }
 ],
 "metadata": {
  "deepnote_execution_queue": [],
  "deepnote_notebook_id": "c004f04a-84b6-45b0-9796-51f1946f416c",
  "kernelspec": {
   "display_name": "Python 3",
   "language": "python",
   "name": "python3"
  },
  "language_info": {
   "codemirror_mode": {
    "name": "ipython",
    "version": 3
   },
   "file_extension": ".py",
   "mimetype": "text/x-python",
   "name": "python",
   "nbconvert_exporter": "python",
   "pygments_lexer": "ipython3",
   "version": "3.6.9"
  }
 },
 "nbformat": 4,
 "nbformat_minor": 4
}
