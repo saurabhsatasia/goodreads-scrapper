{
 "cells": [
  {
   "cell_type": "code",
   "execution_count": 6,
   "metadata": {},
   "outputs": [],
   "source": [
    "import pandas as pd\n",
    "from sklearn.preprocessing import MinMaxScaler"
   ]
  },
  {
   "cell_type": "code",
   "execution_count": 14,
   "metadata": {},
   "outputs": [],
   "source": [
    "df = pd.DataFrame({'avg_ratings':[4.10, 4.70, 4.87,3.89,4.23,2.32,1.88,4.32,4.52,4.46]})"
   ]
  },
  {
   "cell_type": "code",
   "execution_count": 17,
   "metadata": {},
   "outputs": [],
   "source": [
    "scaler = MinMaxScaler((1,10))\n",
    "df['min_max_norm_rating'] = scaler.fit_transform(df[['avg_ratings']])"
   ]
  },
  {
   "cell_type": "code",
   "execution_count": 18,
   "metadata": {},
   "outputs": [
    {
     "data": {
      "text/html": [
       "<div>\n",
       "<style scoped>\n",
       "    .dataframe tbody tr th:only-of-type {\n",
       "        vertical-align: middle;\n",
       "    }\n",
       "\n",
       "    .dataframe tbody tr th {\n",
       "        vertical-align: top;\n",
       "    }\n",
       "\n",
       "    .dataframe thead th {\n",
       "        text-align: right;\n",
       "    }\n",
       "</style>\n",
       "<table border=\"1\" class=\"dataframe\">\n",
       "  <thead>\n",
       "    <tr style=\"text-align: right;\">\n",
       "      <th></th>\n",
       "      <th>avg_ratings</th>\n",
       "      <th>min_max_norm_rating</th>\n",
       "    </tr>\n",
       "  </thead>\n",
       "  <tbody>\n",
       "    <tr>\n",
       "      <th>0</th>\n",
       "      <td>4.10</td>\n",
       "      <td>7.682274</td>\n",
       "    </tr>\n",
       "    <tr>\n",
       "      <th>1</th>\n",
       "      <td>4.70</td>\n",
       "      <td>9.488294</td>\n",
       "    </tr>\n",
       "    <tr>\n",
       "      <th>2</th>\n",
       "      <td>4.87</td>\n",
       "      <td>10.000000</td>\n",
       "    </tr>\n",
       "    <tr>\n",
       "      <th>3</th>\n",
       "      <td>3.89</td>\n",
       "      <td>7.050167</td>\n",
       "    </tr>\n",
       "    <tr>\n",
       "      <th>4</th>\n",
       "      <td>4.23</td>\n",
       "      <td>8.073579</td>\n",
       "    </tr>\n",
       "    <tr>\n",
       "      <th>5</th>\n",
       "      <td>2.32</td>\n",
       "      <td>2.324415</td>\n",
       "    </tr>\n",
       "    <tr>\n",
       "      <th>6</th>\n",
       "      <td>1.88</td>\n",
       "      <td>1.000000</td>\n",
       "    </tr>\n",
       "    <tr>\n",
       "      <th>7</th>\n",
       "      <td>4.32</td>\n",
       "      <td>8.344482</td>\n",
       "    </tr>\n",
       "    <tr>\n",
       "      <th>8</th>\n",
       "      <td>4.52</td>\n",
       "      <td>8.946488</td>\n",
       "    </tr>\n",
       "    <tr>\n",
       "      <th>9</th>\n",
       "      <td>4.46</td>\n",
       "      <td>8.765886</td>\n",
       "    </tr>\n",
       "  </tbody>\n",
       "</table>\n",
       "</div>"
      ],
      "text/plain": [
       "   avg_ratings  min_max_norm_rating\n",
       "0         4.10             7.682274\n",
       "1         4.70             9.488294\n",
       "2         4.87            10.000000\n",
       "3         3.89             7.050167\n",
       "4         4.23             8.073579\n",
       "5         2.32             2.324415\n",
       "6         1.88             1.000000\n",
       "7         4.32             8.344482\n",
       "8         4.52             8.946488\n",
       "9         4.46             8.765886"
      ]
     },
     "execution_count": 18,
     "metadata": {},
     "output_type": "execute_result"
    }
   ],
   "source": [
    "df"
   ]
  },
  {
   "cell_type": "code",
   "execution_count": 34,
   "metadata": {},
   "outputs": [],
   "source": [
    "df2 = pd.DataFrame({'avg_ratings':[1.9, 4.1, 4.70, 4.99]})"
   ]
  },
  {
   "cell_type": "code",
   "execution_count": 35,
   "metadata": {},
   "outputs": [],
   "source": [
    "scaler = MinMaxScaler((1,10))\n",
    "df2['min_max_norm_rating'] = scaler.fit_transform(df2[['avg_ratings']])"
   ]
  },
  {
   "cell_type": "code",
   "execution_count": 47,
   "metadata": {},
   "outputs": [],
   "source": [
    "df2['mean_norm_ratings'] = 1  + (df2['avg_ratings'] - df2['avg_ratings'].mean()) / (df2['avg_ratings'].max() - df2['avg_ratings'].min()) * 9"
   ]
  },
  {
   "cell_type": "code",
   "execution_count": 48,
   "metadata": {},
   "outputs": [
    {
     "data": {
      "text/html": [
       "<div>\n",
       "<style scoped>\n",
       "    .dataframe tbody tr th:only-of-type {\n",
       "        vertical-align: middle;\n",
       "    }\n",
       "\n",
       "    .dataframe tbody tr th {\n",
       "        vertical-align: top;\n",
       "    }\n",
       "\n",
       "    .dataframe thead th {\n",
       "        text-align: right;\n",
       "    }\n",
       "</style>\n",
       "<table border=\"1\" class=\"dataframe\">\n",
       "  <thead>\n",
       "    <tr style=\"text-align: right;\">\n",
       "      <th></th>\n",
       "      <th>avg_ratings</th>\n",
       "      <th>min_max_norm_rating</th>\n",
       "      <th>mean_norm_ratings</th>\n",
       "    </tr>\n",
       "  </thead>\n",
       "  <tbody>\n",
       "    <tr>\n",
       "      <th>0</th>\n",
       "      <td>1.90</td>\n",
       "      <td>1.000000</td>\n",
       "      <td>-4.890777</td>\n",
       "    </tr>\n",
       "    <tr>\n",
       "      <th>1</th>\n",
       "      <td>4.10</td>\n",
       "      <td>7.407767</td>\n",
       "      <td>1.516990</td>\n",
       "    </tr>\n",
       "    <tr>\n",
       "      <th>2</th>\n",
       "      <td>4.70</td>\n",
       "      <td>9.155340</td>\n",
       "      <td>3.264563</td>\n",
       "    </tr>\n",
       "    <tr>\n",
       "      <th>3</th>\n",
       "      <td>4.99</td>\n",
       "      <td>10.000000</td>\n",
       "      <td>4.109223</td>\n",
       "    </tr>\n",
       "  </tbody>\n",
       "</table>\n",
       "</div>"
      ],
      "text/plain": [
       "   avg_ratings  min_max_norm_rating  mean_norm_ratings\n",
       "0         1.90             1.000000          -4.890777\n",
       "1         4.10             7.407767           1.516990\n",
       "2         4.70             9.155340           3.264563\n",
       "3         4.99            10.000000           4.109223"
      ]
     },
     "execution_count": 48,
     "metadata": {},
     "output_type": "execute_result"
    }
   ],
   "source": [
    "df2"
   ]
  },
  {
   "cell_type": "markdown",
   "metadata": {},
   "source": [
    "# Scrapper"
   ]
  },
  {
   "cell_type": "code",
   "execution_count": 156,
   "metadata": {},
   "outputs": [],
   "source": [
    "import time\n",
    "import pandas as pd\n",
    "import numpy as np"
   ]
  },
  {
   "cell_type": "code",
   "execution_count": 50,
   "metadata": {},
   "outputs": [],
   "source": [
    "# Selenium imports\n",
    "from selenium import webdriver\n",
    "from selenium.common.exceptions import NoSuchElementException, ElementClickInterceptedException, StaleElementReferenceException, ElementNotInteractableException\n",
    "from selenium.webdriver.common.by import By\n",
    "from selenium.webdriver.support.wait import WebDriverWait\n",
    "from selenium.webdriver.support import expected_conditions as EC"
   ]
  },
  {
   "cell_type": "code",
   "execution_count": 178,
   "metadata": {},
   "outputs": [],
   "source": [
    "def init_driver(path):    #path = '../driver/chromedriver.exe'\n",
    "    # Initialize crome driver\n",
    "    chrome_options = webdriver.ChromeOptions()\n",
    "    chrome_options.add_argument('--disable-extensions')\n",
    "    chrome_options.add_argument('--profile-directory=Default')\n",
    "#     chrome_options.add_argument('--incognito')\n",
    "    chrome_options.add_argument('--disable-plugins-discovery')\n",
    "#     chrome_options.add_argument('--start-maximized')\n",
    "    \n",
    "    browser = webdriver.Chrome(executable_path=path, options=chrome_options)\n",
    "    \n",
    "    return browser"
   ]
  },
  {
   "cell_type": "code",
   "execution_count": 162,
   "metadata": {},
   "outputs": [],
   "source": [
    "df = pd.read_csv('just_for_links.csv')\n",
    "urls = df['Title_URL'].tolist()"
   ]
  },
  {
   "cell_type": "code",
   "execution_count": 163,
   "metadata": {},
   "outputs": [
    {
     "data": {
      "text/plain": [
       "5099"
      ]
     },
     "execution_count": 163,
     "metadata": {},
     "output_type": "execute_result"
    }
   ],
   "source": [
    "len(urls)"
   ]
  },
  {
   "cell_type": "code",
   "execution_count": 164,
   "metadata": {},
   "outputs": [],
   "source": [
    "books = []"
   ]
  },
  {
   "cell_type": "code",
   "execution_count": 172,
   "metadata": {},
   "outputs": [
    {
     "name": "stdout",
     "output_type": "stream",
     "text": [
      "Scrapped data of 2083 books.\n"
     ]
    }
   ],
   "source": [
    "browser = init_driver(path='chromedriver.exe') \n",
    "a = 'https://www.goodreads.com/book/show/136251.Harry_Potter_and_the_Deathly_Hallows'\n",
    "for l in urls[0:1200]:    \n",
    "    browser.get(l)\n",
    "    time.sleep(2)\n",
    "    try:\n",
    "        browser.find_element_by_css_selector('[alt=\"Dismiss\"]').click() #clicking to the X.\n",
    "        print(' x out .worked')\n",
    "    except (NoSuchElementException,ElementNotInteractableException):\n",
    "        #print(' x out failed')\n",
    "        pass\n",
    "    time.sleep(1)\n",
    " \n",
    "    try:\n",
    "        book_name = browser.find_element_by_xpath('.//div[@class=\"last col stacked\"]//div[@class=\"last col\"]//following-sibling::*').text\n",
    "        #print(book_name)\n",
    "    except NoSuchElementException:\n",
    "        book_name = np.nan\n",
    "        \n",
    "    try:\n",
    "        author = browser.find_element_by_xpath('.//div[@class=\"last col stacked\"]//div[@class=\"last col\"]//div[@id=\"bookAuthors\"]//span[@itemprop=\"author\"]//div[@class=\"authorName__container\"]//following-sibling::*').text\n",
    "        #print(author)\n",
    "    except NoSuchElementException:\n",
    "        author = np.nan\n",
    "    \n",
    "    try:\n",
    "        rating = browser.find_element_by_xpath('.//div[@class=\"uitext stacked\"]//span[@itemprop=\"ratingValue\"]').text\n",
    "        #print(rating)\n",
    "    except NoSuchElementException:\n",
    "        rating = np.nan\n",
    "        \n",
    "    try:\n",
    "        num_rating = browser.find_element_by_xpath('.//div[@class=\"uitext stacked\"]//a[@class=\"gr-hyperlink\"]').text\n",
    "        #print(num_rating)\n",
    "    except NoSuchElementException:\n",
    "        num_rating = np.nan\n",
    "        \n",
    "    try:\n",
    "        num_reviews=browser.find_element_by_xpath('//*[@id=\"bookMeta\"]/a[3]').text\n",
    "        #print(num_reviews)\n",
    "    except NoSuchElementException:\n",
    "        num_reviews = np.nan\n",
    "        \n",
    "    try:\n",
    "        pages=browser.find_element_by_xpath('//*[@id=\"details\"]/div[1]/span[3]').text\n",
    "        #print(pages)\n",
    "    except NoSuchElementException:\n",
    "        pages = np.nan\n",
    "        \n",
    "    try:\n",
    "        publish_year=browser.find_element_by_xpath('//*[@id=\"details\"]/div[2]').text\n",
    "        #print(publish_year)\n",
    "    except NoSuchElementException:\n",
    "        publish_year = np.nan\n",
    "        \n",
    "    try:\n",
    "        browser.find_element_by_xpath('.//div[@class=\"buttons\"]//a[text()=\"More Details...\"]').click()\n",
    "    except (StaleElementReferenceException, NoSuchElementException, ElementClickInterceptedException, ElementNotInteractableException):\n",
    "        pass\n",
    "    \n",
    "    try:    \n",
    "        url=browser.find_element_by_xpath('//*[@id=\"bookDataBox\"]/div[3]/div[2]/a').text\n",
    "        #print(url)\n",
    "    except NoSuchElementException:\n",
    "        url = np.nan\n",
    "        \n",
    "    try:\n",
    "        series=browser.find_element_by_xpath('//*[@id=\"bookDataBox\"]/div[4]/div[2]/a').text\n",
    "        #print(series)\n",
    "    except NoSuchElementException:\n",
    "        series = np.nan\n",
    "        \n",
    "    try:\n",
    "        awards=browser.find_element_by_xpath('//*[@id=\"bookDataBox\"]/div[8]/div[2]').text\n",
    "        #print(awards)\n",
    "    except NoSuchElementException:\n",
    "        awards = np.nan\n",
    "        \n",
    "    try:\n",
    "        places=browser.find_element_by_xpath('//*[@id=\"bookDataBox\"]/div[7]').text\n",
    "        #print(places)\n",
    "    except NoSuchElementException:\n",
    "        places = np.nan\n",
    "        \n",
    "    try:\n",
    "        genre_1=browser.find_element_by_xpath('/html/body/div[2]/div[3]/div[1]/div[2]/div[5]/div[7]/div/div[2]/div/div[1]/div[1]/a').text\n",
    "        #print(genre_1)\n",
    "    except NoSuchElementException:\n",
    "        genre_1 = np.nan\n",
    "    \n",
    "    try:\n",
    "        genre_2=browser.find_element_by_xpath('/html/body/div[2]/div[3]/div[1]/div[2]/div[5]/div[7]/div/div[2]/div/div[2]/div[1]/a').text\n",
    "        #print(genre_2)\n",
    "    except NoSuchElementException:\n",
    "        genre_2 = np.nan\n",
    "        \n",
    "    try:\n",
    "        genre_3=browser.find_element_by_xpath('/html/body/div[2]/div[3]/div[1]/div[2]/div[5]/div[7]/div/div[2]/div/div[3]/div[1]/a').text\n",
    "        #print(genre_3)\n",
    "    except NoSuchElementException:\n",
    "        genre_3 = np.nan\n",
    "    time.sleep(0.5)\n",
    "    \n",
    "    books.append({'Title':book_name,\n",
    "        \"author\" : author,\n",
    "        \"rating\" : rating,\n",
    "        \"num_rating\" : num_rating,\n",
    "        \"num_reviews\" : num_reviews,\n",
    "        \"pages\" : pages,\n",
    "        \"publish_year\" : publish_year,\n",
    "        \"url\" : url,\n",
    "        \"series\" : series,\n",
    "        \"awards\" : awards,\n",
    "        \"places\" : places,         \n",
    "        \"genre_1\" : genre_1,\n",
    "        \"genre_2\" : genre_2,\n",
    "        \"genre_3\" : genre_3,})\n",
    "    \n",
    "print(f\"Scrapped data of {len(books)} books.\")\n",
    "df = pd.DataFrame(books)\n",
    "    \n",
    "    "
   ]
  },
  {
   "cell_type": "code",
   "execution_count": 173,
   "metadata": {},
   "outputs": [
    {
     "data": {
      "text/html": [
       "<div>\n",
       "<style scoped>\n",
       "    .dataframe tbody tr th:only-of-type {\n",
       "        vertical-align: middle;\n",
       "    }\n",
       "\n",
       "    .dataframe tbody tr th {\n",
       "        vertical-align: top;\n",
       "    }\n",
       "\n",
       "    .dataframe thead th {\n",
       "        text-align: right;\n",
       "    }\n",
       "</style>\n",
       "<table border=\"1\" class=\"dataframe\">\n",
       "  <thead>\n",
       "    <tr style=\"text-align: right;\">\n",
       "      <th></th>\n",
       "      <th>Title</th>\n",
       "      <th>author</th>\n",
       "      <th>rating</th>\n",
       "      <th>num_rating</th>\n",
       "      <th>num_reviews</th>\n",
       "      <th>pages</th>\n",
       "      <th>publish_year</th>\n",
       "      <th>url</th>\n",
       "      <th>series</th>\n",
       "      <th>awards</th>\n",
       "      <th>genre_1</th>\n",
       "      <th>genre_2</th>\n",
       "      <th>genre_3</th>\n",
       "      <th>places</th>\n",
       "    </tr>\n",
       "  </thead>\n",
       "  <tbody>\n",
       "    <tr>\n",
       "      <th>0</th>\n",
       "      <td>Harry Potter and the Deathly Hallows</td>\n",
       "      <td>J.K. Rowling</td>\n",
       "      <td>4.62</td>\n",
       "      <td>2,883,244 ratings</td>\n",
       "      <td>66,759 reviews</td>\n",
       "      <td>759 pages</td>\n",
       "      <td>Published July 21st 2007 by Arthur A. Levine B...</td>\n",
       "      <td>https://www.arthuralevinebooks.com/harry-potte...</td>\n",
       "      <td>Harry Potter #7</td>\n",
       "      <td>Locus Award Nominee for Best Young Adult Novel...</td>\n",
       "      <td>Fantasy</td>\n",
       "      <td>Young Adult</td>\n",
       "      <td>Fiction</td>\n",
       "      <td>NaN</td>\n",
       "    </tr>\n",
       "    <tr>\n",
       "      <th>1</th>\n",
       "      <td>The Hunger Games</td>\n",
       "      <td>Suzanne Collins</td>\n",
       "      <td>4.33</td>\n",
       "      <td>6,533,809 ratings</td>\n",
       "      <td>173,706 reviews</td>\n",
       "      <td>374 pages</td>\n",
       "      <td>Published September 14th 2008 by Scholastic Press</td>\n",
       "      <td>NaN</td>\n",
       "      <td>The Hunger Games #1</td>\n",
       "      <td>Locus Award Nominee for Best Young Adult Book ...</td>\n",
       "      <td>Young Adult</td>\n",
       "      <td>Fiction</td>\n",
       "      <td>Science Fiction</td>\n",
       "      <td>NaN</td>\n",
       "    </tr>\n",
       "    <tr>\n",
       "      <th>2</th>\n",
       "      <td>Harry Potter and the Half-Blood Prince</td>\n",
       "      <td>J.K. Rowling</td>\n",
       "      <td>4.57</td>\n",
       "      <td>2,506,722 ratings</td>\n",
       "      <td>40,531 reviews</td>\n",
       "      <td>NaN</td>\n",
       "      <td>Published September 16th 2006 by Scholastic In...</td>\n",
       "      <td>Harry Potter #6</td>\n",
       "      <td>Draco Malfoy</td>\n",
       "      <td>NaN</td>\n",
       "      <td>NaN</td>\n",
       "      <td>NaN</td>\n",
       "      <td>NaN</td>\n",
       "      <td>NaN</td>\n",
       "    </tr>\n",
       "    <tr>\n",
       "      <th>3</th>\n",
       "      <td>Harry Potter and the Goblet of Fire</td>\n",
       "      <td>J.K. Rowling</td>\n",
       "      <td>4.56</td>\n",
       "      <td>2,672,283 ratings</td>\n",
       "      <td>47,871 reviews</td>\n",
       "      <td>734 pages</td>\n",
       "      <td>Published September 28th 2002 by Scholastic (f...</td>\n",
       "      <td>Harry Potter #4</td>\n",
       "      <td>Sirius Black</td>\n",
       "      <td>NaN</td>\n",
       "      <td>NaN</td>\n",
       "      <td>NaN</td>\n",
       "      <td>NaN</td>\n",
       "      <td>NaN</td>\n",
       "    </tr>\n",
       "    <tr>\n",
       "      <th>4</th>\n",
       "      <td>Harry Potter and the Order of the Phoenix</td>\n",
       "      <td>J.K. Rowling</td>\n",
       "      <td>4.50</td>\n",
       "      <td>2,581,093 ratings</td>\n",
       "      <td>43,636 reviews</td>\n",
       "      <td>870 pages</td>\n",
       "      <td>Published September 2004 by Scholastic Inc. (f...</td>\n",
       "      <td>NaN</td>\n",
       "      <td>Harry Potter #5</td>\n",
       "      <td>Bram Stoker Award for Works for Young Readers ...</td>\n",
       "      <td>NaN</td>\n",
       "      <td>NaN</td>\n",
       "      <td>NaN</td>\n",
       "      <td>NaN</td>\n",
       "    </tr>\n",
       "  </tbody>\n",
       "</table>\n",
       "</div>"
      ],
      "text/plain": [
       "                                       Title           author rating  \\\n",
       "0       Harry Potter and the Deathly Hallows     J.K. Rowling   4.62   \n",
       "1                           The Hunger Games  Suzanne Collins   4.33   \n",
       "2     Harry Potter and the Half-Blood Prince     J.K. Rowling   4.57   \n",
       "3        Harry Potter and the Goblet of Fire     J.K. Rowling   4.56   \n",
       "4  Harry Potter and the Order of the Phoenix     J.K. Rowling   4.50   \n",
       "\n",
       "          num_rating      num_reviews      pages  \\\n",
       "0  2,883,244 ratings   66,759 reviews  759 pages   \n",
       "1  6,533,809 ratings  173,706 reviews  374 pages   \n",
       "2  2,506,722 ratings   40,531 reviews        NaN   \n",
       "3  2,672,283 ratings   47,871 reviews  734 pages   \n",
       "4  2,581,093 ratings   43,636 reviews  870 pages   \n",
       "\n",
       "                                        publish_year  \\\n",
       "0  Published July 21st 2007 by Arthur A. Levine B...   \n",
       "1  Published September 14th 2008 by Scholastic Press   \n",
       "2  Published September 16th 2006 by Scholastic In...   \n",
       "3  Published September 28th 2002 by Scholastic (f...   \n",
       "4  Published September 2004 by Scholastic Inc. (f...   \n",
       "\n",
       "                                                 url               series  \\\n",
       "0  https://www.arthuralevinebooks.com/harry-potte...      Harry Potter #7   \n",
       "1                                                NaN  The Hunger Games #1   \n",
       "2                                    Harry Potter #6         Draco Malfoy   \n",
       "3                                    Harry Potter #4         Sirius Black   \n",
       "4                                                NaN      Harry Potter #5   \n",
       "\n",
       "                                              awards      genre_1  \\\n",
       "0  Locus Award Nominee for Best Young Adult Novel...      Fantasy   \n",
       "1  Locus Award Nominee for Best Young Adult Book ...  Young Adult   \n",
       "2                                                NaN          NaN   \n",
       "3                                                NaN          NaN   \n",
       "4  Bram Stoker Award for Works for Young Readers ...          NaN   \n",
       "\n",
       "       genre_2          genre_3 places  \n",
       "0  Young Adult          Fiction    NaN  \n",
       "1      Fiction  Science Fiction    NaN  \n",
       "2          NaN              NaN    NaN  \n",
       "3          NaN              NaN    NaN  \n",
       "4          NaN              NaN    NaN  "
      ]
     },
     "execution_count": 173,
     "metadata": {},
     "output_type": "execute_result"
    }
   ],
   "source": [
    "df.head()"
   ]
  },
  {
   "cell_type": "code",
   "execution_count": 174,
   "metadata": {},
   "outputs": [],
   "source": [
    "df.to_csv(\"books_2000.csv\")"
   ]
  },
  {
   "cell_type": "code",
   "execution_count": 175,
   "metadata": {},
   "outputs": [
    {
     "data": {
      "text/plain": [
       "(2083, 14)"
      ]
     },
     "execution_count": 175,
     "metadata": {},
     "output_type": "execute_result"
    }
   ],
   "source": [
    "df.shape"
   ]
  },
  {
   "cell_type": "code",
   "execution_count": 176,
   "metadata": {},
   "outputs": [
    {
     "data": {
      "text/plain": [
       "Index(['Title', 'author', 'rating', 'num_rating', 'num_reviews', 'pages',\n",
       "       'publish_year', 'url', 'series', 'awards', 'genre_1', 'genre_2',\n",
       "       'genre_3', 'places'],\n",
       "      dtype='object')"
      ]
     },
     "execution_count": 176,
     "metadata": {},
     "output_type": "execute_result"
    }
   ],
   "source": [
    "df.columns"
   ]
  },
  {
   "cell_type": "code",
   "execution_count": null,
   "metadata": {},
   "outputs": [],
   "source": [
    "# df.avg_rating = pd.to_numeric(df.avg_rating, errors=\"coerce\")\n",
    "    # df.num_ratings = pd.to_numeric(df.num_ratings, errors=\"coerce\")\n",
    "    # df = df.fillna(0)\n",
    "    # df['num_ratings'] = df['num_ratings'].astype(int)\n",
    "    # df['avg_rating'] = df['avg_rating'].astype(int)"
   ]
  }
 ],
 "metadata": {
  "kernelspec": {
   "display_name": "Python 3",
   "language": "python",
   "name": "python3"
  },
  "language_info": {
   "codemirror_mode": {
    "name": "ipython",
    "version": 3
   },
   "file_extension": ".py",
   "mimetype": "text/x-python",
   "name": "python",
   "nbconvert_exporter": "python",
   "pygments_lexer": "ipython3",
   "version": "3.6.9"
  }
 },
 "nbformat": 4,
 "nbformat_minor": 4
}
